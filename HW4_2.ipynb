{
 "cells": [
  {
   "cell_type": "code",
   "execution_count": 28,
   "id": "6e98732e",
   "metadata": {},
   "outputs": [],
   "source": [
    "import pandas as pd\n",
    "import numpy as np"
   ]
  },
  {
   "cell_type": "code",
   "execution_count": 29,
   "id": "7a9282d9",
   "metadata": {},
   "outputs": [],
   "source": [
    "def sigmoid(x):\n",
    "    return 1/(1+np.exp(-x))"
   ]
  },
  {
   "cell_type": "code",
   "execution_count": 30,
   "id": "356c85cf",
   "metadata": {},
   "outputs": [],
   "source": [
    "W_1 = [[0.2,0.4],[0.15,0.75],[0.3,0.01]]\n",
    "W_2 = [[0.9,0.25,0.12],[0.99,0.01,0.5]]\n",
    "x = np.array([[5,10, 1],[7,3,1],[100,5,1]])\n",
    "Y = np.array([[1,0,0],[0,1,0],[0,0,1]])"
   ]
  },
  {
   "cell_type": "code",
   "execution_count": 31,
   "id": "ff974762",
   "metadata": {},
   "outputs": [],
   "source": [
    "N = len(Y)"
   ]
  },
  {
   "cell_type": "code",
   "execution_count": 32,
   "id": "40860f4b",
   "metadata": {},
   "outputs": [],
   "source": [
    "h_in = np.dot(x, W_1)\n",
    "h_out = sigmoid(h_in)\n",
    "o_in = np.dot(h_out,W_2)\n",
    "o_out = sigmoid(o_in)"
   ]
  },
  {
   "cell_type": "code",
   "execution_count": 33,
   "id": "f6af02ba",
   "metadata": {},
   "outputs": [
    {
     "data": {
      "text/plain": [
       "0.5496586693699429"
      ]
     },
     "execution_count": 33,
     "metadata": {},
     "output_type": "execute_result"
    }
   ],
   "source": [
    "mse = ((o_out - Y)**2).sum()/(2*N)\n",
    "mse"
   ]
  },
  {
   "cell_type": "code",
   "execution_count": 34,
   "id": "bef6279d",
   "metadata": {},
   "outputs": [],
   "source": [
    "#backpropagation\n",
    "learning_rate = 0.2\n",
    "\n",
    "o_error = o_out-Y\n",
    "o_delta = o_error * o_out*(1-o_out)\n",
    "w2_upd = np.dot(h_out.T, o_delta)/N\n",
    "\n",
    "W_2 = W_2 - learning_rate * w2_upd\n",
    "\n",
    "h_error = np.dot(o_delta, W_2.T)\n",
    "h_delta = h_error * h_out*(1-h_out)\n",
    "w1_upd = np.dot(x.T, h_delta)/N\n",
    "\n",
    "W_1 = W_1 - learning_rate * w1_upd"
   ]
  },
  {
   "cell_type": "code",
   "execution_count": 35,
   "id": "804d61ed",
   "metadata": {},
   "outputs": [
    {
     "data": {
      "text/plain": [
       "0.5379109712142591"
      ]
     },
     "execution_count": 35,
     "metadata": {},
     "output_type": "execute_result"
    }
   ],
   "source": [
    "h_in = np.dot(x, W_1)\n",
    "h_out = sigmoid(h_in)\n",
    "o_in = np.dot(h_out,W_2)\n",
    "o_out = sigmoid(o_in)\n",
    "\n",
    "mse = ((o_out - Y)**2).sum()/(2*N)\n",
    "mse"
   ]
  },
  {
   "cell_type": "code",
   "execution_count": null,
   "id": "2468be69",
   "metadata": {},
   "outputs": [],
   "source": []
  }
 ],
 "metadata": {
  "kernelspec": {
   "display_name": "Python 3 (ipykernel)",
   "language": "python",
   "name": "python3"
  },
  "language_info": {
   "codemirror_mode": {
    "name": "ipython",
    "version": 3
   },
   "file_extension": ".py",
   "mimetype": "text/x-python",
   "name": "python",
   "nbconvert_exporter": "python",
   "pygments_lexer": "ipython3",
   "version": "3.9.12"
  }
 },
 "nbformat": 4,
 "nbformat_minor": 5
}
